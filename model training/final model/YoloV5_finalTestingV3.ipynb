{
 "cells": [
  {
   "cell_type": "code",
   "execution_count": null,
   "id": "a5ebff44",
   "metadata": {},
   "outputs": [],
   "source": [
    "!git clone https://github.com/ultralytics/yolov5.git\n",
    "%cd yolov5\n",
    "%pip install -qr requirements.txt # install dependencies\n",
    "! pip install torch torchvision\n",
    "!pip install roboflow\n",
    "!pip install --upgrade pip\n",
    "\n",
    "import torch\n",
    "import os\n",
    "from IPython.display import Image, clear_output  # to display images\n",
    "from IPython import display\n",
    "\n",
    "display.clear_output()\n",
    "\n",
    "print(f\"Setup complete. Using torch {torch.__version__} ({torch.cuda.get_device_properties(0).name if torch.cuda.is_available() else 'CPU'})\")"
   ]
  },
  {
   "cell_type": "code",
   "execution_count": 2,
   "id": "8b36e4a2",
   "metadata": {},
   "outputs": [],
   "source": [
    "from roboflow import Roboflow\n",
    "rf = Roboflow(model_format=\"yolov5\", notebook=\"ultralytics\", api_key=\"B0gU8fg7HPtyAhhTOtyG\")"
   ]
  },
  {
   "cell_type": "code",
   "execution_count": 3,
   "id": "0bad47b8",
   "metadata": {},
   "outputs": [],
   "source": [
    "# set up environment\n",
    "os.environ[\"DATASET_DIRECTORY\"] = \"/project/ece601/EC464_VIAD/VIAD_Test\""
   ]
  },
  {
   "cell_type": "code",
   "execution_count": null,
   "id": "dd5b8d44",
   "metadata": {},
   "outputs": [],
   "source": [
    "rf = Roboflow(api_key=\"B0gU8fg7HPtyAhhTOtyG\")\n",
    "project = rf.workspace(\"viad-optics-senior-design\").project(\"viadv2\")\n",
    "version = project.version(3)\n",
    "dataset = version.download(\"yolov5\")"
   ]
  },
  {
   "cell_type": "code",
   "execution_count": null,
   "id": "8a9a8dc8",
   "metadata": {},
   "outputs": [],
   "source": [
    "print(dataset.location)"
   ]
  },
  {
   "cell_type": "code",
   "execution_count": null,
   "id": "d5a200c8",
   "metadata": {},
   "outputs": [],
   "source": [
    "!python train.py --img 640 --epochs 500 --data {dataset.location}/data.yaml --weights yolov5n.pt --cache"
   ]
  },
  {
   "cell_type": "code",
   "execution_count": null,
   "id": "c871041b",
   "metadata": {},
   "outputs": [],
   "source": [
    "!python detect.py --weights runs/train/exp/weights/best.pt --img 640 --conf 0.5 --source /project/ece601/EC464_VIAD/VIAD_Test/VIADv2-3/test/images"
   ]
  },
  {
   "cell_type": "code",
   "execution_count": null,
   "id": "de0eadc0",
   "metadata": {},
   "outputs": [],
   "source": [
    "#display inference on ALL test images\n",
    "import glob\n",
    "from IPython.display import Image, display\n",
    "\n",
    "for imageName in glob.glob('/project/ece601/EC464_VIAD/VIAD_Test/yolov5/runs/detect/exp/*.jpg')[:10]: \n",
    "    display(Image(filename=imageName))"
   ]
  },
  {
   "cell_type": "code",
   "execution_count": null,
   "id": "c7e13c98",
   "metadata": {},
   "outputs": [],
   "source": [
    "Image(filename='/project/ece601/EC464_VIAD/VIAD_Test/yolov5/runs/train/exp/confusion_matrix.png', width=900)"
   ]
  },
  {
   "cell_type": "code",
   "execution_count": null,
   "id": "ecf5d4b2",
   "metadata": {},
   "outputs": [],
   "source": [
    "Image(filename='/project/ece601/EC464_VIAD/VIAD_Test/yolov5/runs/train/exp/results.png', width=900)  # plot 'results.csv' as 'results.png'"
   ]
  },
  {
   "cell_type": "code",
   "execution_count": null,
   "id": "fbab2a83",
   "metadata": {},
   "outputs": [],
   "source": [
    "Image(filename='/project/ece601/EC464_VIAD/VIAD_Test/yolov5/runs/train/exp/val_batch0_pred.jpg', width=900)"
   ]
  },
  {
   "cell_type": "code",
   "execution_count": null,
   "id": "61bd8612",
   "metadata": {},
   "outputs": [],
   "source": [
    "Image(filename='/project/ece601/EC464_VIAD/VIAD_Test/yolov5/runs/train/exp/val_batch1_pred.jpg', width=900)"
   ]
  },
  {
   "cell_type": "code",
   "execution_count": null,
   "id": "b7a48dc2",
   "metadata": {},
   "outputs": [],
   "source": [
    "Image(filename='/project/ece601/EC464_VIAD/VIAD_Test/yolov5/runs/train/exp/val_batch2_pred.jpg', width=900)"
   ]
  }
 ],
 "metadata": {
  "kernelspec": {
   "display_name": "Python 3 (ipykernel)",
   "language": "python",
   "name": "python3"
  },
  "language_info": {
   "codemirror_mode": {
    "name": "ipython",
    "version": 3
   },
   "file_extension": ".py",
   "mimetype": "text/x-python",
   "name": "python",
   "nbconvert_exporter": "python",
   "pygments_lexer": "ipython3",
   "version": "3.10.12"
  }
 },
 "nbformat": 4,
 "nbformat_minor": 5
}
